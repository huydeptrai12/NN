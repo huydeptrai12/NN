{
 "cells": [
  {
   "cell_type": "markdown",
   "metadata": {},
   "source": [
    "# Dummy dataset"
   ]
  },
  {
   "cell_type": "markdown",
   "metadata": {},
   "source": [
    "* Find this notebook at `EpyNN/epynnlive/dummy_image/prepare_dataset.ipynb`. \n",
    "* Regular python code at `EpyNN/epynnlive/dummy_image/prepare_dataset.py`.\n",
    "\n",
    "Run the notebook online with [Google Colab](https://colab.research.google.com/github/Synthaze/EpyNN/blob/main/epynnlive/dummy_image/prepare_dataset.ipynb).\n",
    "\n",
    "**Level: Intermediate**"
   ]
  },
  {
   "cell_type": "markdown",
   "metadata": {},
   "source": [
    "This notebook is part of the series on preparing data for Neural Network regression with EpyNN.\n",
    "\n",
    "In addition to the topic-specific content, it contains several explanations about basics or general concepts in programming that are important in the context.\n",
    "\n",
    "Note that elements developed in the following notebooks may not be reviewed herein:\n",
    "\n",
    "* [Boolean dataset](../dummy_boolean/prepare_dataset.ipynb)\n",
    "* [String dataset](../dummy_string/prepare_dataset.ipynb)\n",
    "* [Time-series (numerical)](../dummy_time/prepare_dataset.ipynb)"
   ]
  },
  {
   "cell_type": "markdown",
   "metadata": {},
   "source": [
    "## What is an image?\n",
    "\n",
    "Instinctively, an image may resemble a 2D plane composed of **WIDTH * HEIGHT** colored units arranged together in a particular manner.\n",
    "\n",
    "In computing, a 2D image is generally a 3D object which is composed of **WIDTH * HEIGHT** units within each plane with respect the the third dimension, which is the **DEPTH** of the image, therefore giving **WIDTH * HEIGHT * DEPTH = N_FEATURES**.\n",
    "\n",
    "Image depth is simply the number of channels which compose the image. You are certainly aware of RGB colors, for instance. In the RGB scheme, one color is written such as ``rgb(int, int, int)`` or ``rgb(255, 0, 0)``, ``rgb(0, 255, 0)`` and ``rgb(0, 0, 255)`` for pure red, green and blue, respectively. One RGB image would therefore have a **DEPTH** equal to 3, because of the three channels within.\n",
    "\n",
    "Note that following this scheme, an image is made of Numerical data, namely integer or ``int``. "
   ]
  },
  {
   "cell_type": "markdown",
   "metadata": {},
   "source": [
    "## Why preparing a dummy dataset of images?\n",
    "\n",
    "In addition to general considerations [reviewed here](../dummy_boolean/prepare_dataset.ipynb#Why-preparing-a-dummy-dataset-with-Boolean-features), this may be a good idea to practically understand what an image is, how to build an image, and how to handle such kind of data overall."
   ]
  },
  {
   "cell_type": "markdown",
   "metadata": {},
   "source": [
    "## Prepare a set of image sample features and related label"
   ]
  },
  {
   "cell_type": "markdown",
   "metadata": {},
   "source": [
    "There is no specific import for this notebook since we will create images from scratch."
   ]
  },
  {
   "cell_type": "markdown",
   "metadata": {},
   "source": [
    "### Imports"
   ]
  },
  {
   "cell_type": "code",
   "execution_count": 1,
   "metadata": {},
   "outputs": [
    {
     "name": "stdout",
     "output_type": "stream",
     "text": [
      "Requirement already satisfied: epynn in /home/synthase/.local/lib/python3.9/site-packages (1.2.6)\n",
      "Requirement already satisfied: numpy==1.21.2 in /home/synthase/.local/lib/python3.9/site-packages (from epynn) (1.21.2)\n",
      "Requirement already satisfied: texttable==1.6.4 in /home/synthase/.local/lib/python3.9/site-packages (from epynn) (1.6.4)\n",
      "Requirement already satisfied: Pygments==2.10.0 in /home/synthase/.local/lib/python3.9/site-packages (from epynn) (2.10.0)\n",
      "Requirement already satisfied: Pillow==8.3.1 in /home/synthase/.local/lib/python3.9/site-packages (from epynn) (8.3.1)\n",
      "Requirement already satisfied: cycler==0.10.0 in /home/synthase/.local/lib/python3.9/site-packages (from epynn) (0.10.0)\n",
      "Requirement already satisfied: kiwisolver==1.3.2 in /home/synthase/.local/lib/python3.9/site-packages (from epynn) (1.3.2)\n",
      "Requirement already satisfied: nbconvert==5.4.1 in /home/synthase/.local/lib/python3.9/site-packages (from epynn) (5.4.1)\n",
      "Requirement already satisfied: pyparsing==2.4.7 in /home/synthase/.local/lib/python3.9/site-packages (from epynn) (2.4.7)\n",
      "Requirement already satisfied: jupyter==1.0.0 in /home/synthase/.local/lib/python3.9/site-packages (from epynn) (1.0.0)\n",
      "Requirement already satisfied: termcolor==1.1.0 in /home/synthase/.local/lib/python3.9/site-packages (from epynn) (1.1.0)\n",
      "Requirement already satisfied: utilsovs-pkg in /home/synthase/.local/lib/python3.9/site-packages (from epynn) (0.9.4)\n",
      "Requirement already satisfied: python-dateutil==2.8.2 in /home/synthase/.local/lib/python3.9/site-packages (from epynn) (2.8.2)\n",
      "Requirement already satisfied: tabulate==0.8.9 in /home/synthase/.local/lib/python3.9/site-packages (from epynn) (0.8.9)\n",
      "Requirement already satisfied: six==1.16.0 in /usr/lib/python3/dist-packages (from epynn) (1.16.0)\n",
      "Requirement already satisfied: wget==3.2 in /home/synthase/.local/lib/python3.9/site-packages (from epynn) (3.2)\n",
      "Requirement already satisfied: matplotlib==3.4.3 in /home/synthase/.local/lib/python3.9/site-packages (from epynn) (3.4.3)\n",
      "Requirement already satisfied: scipy==1.6.3 in /home/synthase/.local/lib/python3.9/site-packages (from epynn) (1.6.3)\n",
      "Requirement already satisfied: notebook in /home/synthase/.local/lib/python3.9/site-packages (from jupyter==1.0.0->epynn) (6.4.11)\n",
      "Requirement already satisfied: qtconsole in /home/synthase/.local/lib/python3.9/site-packages (from jupyter==1.0.0->epynn) (5.3.0)\n",
      "Requirement already satisfied: jupyter-console in /home/synthase/.local/lib/python3.9/site-packages (from jupyter==1.0.0->epynn) (6.4.3)\n",
      "Requirement already satisfied: ipywidgets in /home/synthase/.local/lib/python3.9/site-packages (from jupyter==1.0.0->epynn) (7.7.0)\n",
      "Requirement already satisfied: ipykernel in /home/synthase/.local/lib/python3.9/site-packages (from jupyter==1.0.0->epynn) (6.13.0)\n",
      "Requirement already satisfied: bleach in /home/synthase/.local/lib/python3.9/site-packages (from nbconvert==5.4.1->epynn) (4.1.0)\n",
      "Requirement already satisfied: entrypoints>=0.2.2 in /home/synthase/.local/lib/python3.9/site-packages (from nbconvert==5.4.1->epynn) (0.4)\n",
      "Requirement already satisfied: pandocfilters>=1.4.1 in /home/synthase/.local/lib/python3.9/site-packages (from nbconvert==5.4.1->epynn) (1.5.0)\n",
      "Requirement already satisfied: testpath in /home/synthase/.local/lib/python3.9/site-packages (from nbconvert==5.4.1->epynn) (0.6.0)\n",
      "Requirement already satisfied: mistune>=0.8.1 in /home/synthase/.local/lib/python3.9/site-packages (from nbconvert==5.4.1->epynn) (0.8.4)\n",
      "Requirement already satisfied: defusedxml in /home/synthase/.local/lib/python3.9/site-packages (from nbconvert==5.4.1->epynn) (0.7.1)\n",
      "Requirement already satisfied: nbformat>=4.4 in /home/synthase/.local/lib/python3.9/site-packages (from nbconvert==5.4.1->epynn) (5.3.0)\n",
      "Requirement already satisfied: jinja2 in /home/synthase/.local/lib/python3.9/site-packages (from nbconvert==5.4.1->epynn) (3.0.3)\n",
      "Requirement already satisfied: jupyter-core in /home/synthase/.local/lib/python3.9/site-packages (from nbconvert==5.4.1->epynn) (4.10.0)\n",
      "Requirement already satisfied: traitlets>=4.2 in /home/synthase/.local/lib/python3.9/site-packages (from nbconvert==5.4.1->epynn) (5.1.1)\n",
      "Requirement already satisfied: fastjsonschema in /home/synthase/.local/lib/python3.9/site-packages (from nbformat>=4.4->nbconvert==5.4.1->epynn) (2.15.3)\n",
      "Requirement already satisfied: jsonschema>=2.6 in /usr/lib/python3/dist-packages (from nbformat>=4.4->nbconvert==5.4.1->epynn) (3.2.0)\n",
      "Requirement already satisfied: packaging in /home/synthase/.local/lib/python3.9/site-packages (from bleach->nbconvert==5.4.1->epynn) (21.3)\n",
      "Requirement already satisfied: webencodings in /home/synthase/.local/lib/python3.9/site-packages (from bleach->nbconvert==5.4.1->epynn) (0.5.1)\n",
      "Requirement already satisfied: ipython>=7.23.1 in /home/synthase/.local/lib/python3.9/site-packages (from ipykernel->jupyter==1.0.0->epynn) (8.2.0)\n",
      "Requirement already satisfied: debugpy>=1.0 in /home/synthase/.local/lib/python3.9/site-packages (from ipykernel->jupyter==1.0.0->epynn) (1.6.0)\n",
      "Requirement already satisfied: jupyter-client>=6.1.12 in /home/synthase/.local/lib/python3.9/site-packages (from ipykernel->jupyter==1.0.0->epynn) (7.2.2)\n",
      "Requirement already satisfied: psutil in /usr/lib/python3/dist-packages (from ipykernel->jupyter==1.0.0->epynn) (5.8.0)\n",
      "Requirement already satisfied: matplotlib-inline>=0.1 in /home/synthase/.local/lib/python3.9/site-packages (from ipykernel->jupyter==1.0.0->epynn) (0.1.3)\n",
      "Requirement already satisfied: nest-asyncio in /home/synthase/.local/lib/python3.9/site-packages (from ipykernel->jupyter==1.0.0->epynn) (1.5.5)\n",
      "Requirement already satisfied: tornado>=6.1 in /home/synthase/.local/lib/python3.9/site-packages (from ipykernel->jupyter==1.0.0->epynn) (6.1)\n",
      "Requirement already satisfied: backcall in /home/synthase/.local/lib/python3.9/site-packages (from ipython>=7.23.1->ipykernel->jupyter==1.0.0->epynn) (0.2.0)\n",
      "Requirement already satisfied: decorator in /home/synthase/.local/lib/python3.9/site-packages (from ipython>=7.23.1->ipykernel->jupyter==1.0.0->epynn) (5.1.1)\n",
      "Requirement already satisfied: jedi>=0.16 in /home/synthase/.local/lib/python3.9/site-packages (from ipython>=7.23.1->ipykernel->jupyter==1.0.0->epynn) (0.18.1)\n",
      "Requirement already satisfied: stack-data in /home/synthase/.local/lib/python3.9/site-packages (from ipython>=7.23.1->ipykernel->jupyter==1.0.0->epynn) (0.2.0)\n",
      "Requirement already satisfied: pickleshare in /home/synthase/.local/lib/python3.9/site-packages (from ipython>=7.23.1->ipykernel->jupyter==1.0.0->epynn) (0.7.5)\n",
      "Requirement already satisfied: setuptools>=18.5 in /usr/lib/python3/dist-packages (from ipython>=7.23.1->ipykernel->jupyter==1.0.0->epynn) (52.0.0)\n",
      "Requirement already satisfied: prompt-toolkit!=3.0.0,!=3.0.1,<3.1.0,>=2.0.0 in /home/synthase/.local/lib/python3.9/site-packages (from ipython>=7.23.1->ipykernel->jupyter==1.0.0->epynn) (3.0.29)\n",
      "Requirement already satisfied: pexpect>4.3 in /home/synthase/.local/lib/python3.9/site-packages (from ipython>=7.23.1->ipykernel->jupyter==1.0.0->epynn) (4.8.0)\n",
      "Requirement already satisfied: parso<0.9.0,>=0.8.0 in /home/synthase/.local/lib/python3.9/site-packages (from jedi>=0.16->ipython>=7.23.1->ipykernel->jupyter==1.0.0->epynn) (0.8.3)\n",
      "Requirement already satisfied: pyzmq>=22.3 in /home/synthase/.local/lib/python3.9/site-packages (from jupyter-client>=6.1.12->ipykernel->jupyter==1.0.0->epynn) (22.3.0)\n",
      "Requirement already satisfied: ptyprocess>=0.5 in /home/synthase/.local/lib/python3.9/site-packages (from pexpect>4.3->ipython>=7.23.1->ipykernel->jupyter==1.0.0->epynn) (0.7.0)\n",
      "Requirement already satisfied: wcwidth in /home/synthase/.local/lib/python3.9/site-packages (from prompt-toolkit!=3.0.0,!=3.0.1,<3.1.0,>=2.0.0->ipython>=7.23.1->ipykernel->jupyter==1.0.0->epynn) (0.2.5)\n",
      "Requirement already satisfied: widgetsnbextension~=3.6.0 in /home/synthase/.local/lib/python3.9/site-packages (from ipywidgets->jupyter==1.0.0->epynn) (3.6.0)\n",
      "Requirement already satisfied: jupyterlab-widgets>=1.0.0 in /home/synthase/.local/lib/python3.9/site-packages (from ipywidgets->jupyter==1.0.0->epynn) (1.1.0)\n",
      "Requirement already satisfied: ipython-genutils~=0.2.0 in /home/synthase/.local/lib/python3.9/site-packages (from ipywidgets->jupyter==1.0.0->epynn) (0.2.0)\n"
     ]
    },
    {
     "name": "stdout",
     "output_type": "stream",
     "text": [
      "Requirement already satisfied: terminado>=0.8.3 in /home/synthase/.local/lib/python3.9/site-packages (from notebook->jupyter==1.0.0->epynn) (0.13.3)\n",
      "Requirement already satisfied: argon2-cffi in /home/synthase/.local/lib/python3.9/site-packages (from notebook->jupyter==1.0.0->epynn) (21.3.0)\n",
      "Requirement already satisfied: Send2Trash>=1.8.0 in /home/synthase/.local/lib/python3.9/site-packages (from notebook->jupyter==1.0.0->epynn) (1.8.0)\n",
      "Requirement already satisfied: prometheus-client in /home/synthase/.local/lib/python3.9/site-packages (from notebook->jupyter==1.0.0->epynn) (0.14.1)\n",
      "Requirement already satisfied: argon2-cffi-bindings in /home/synthase/.local/lib/python3.9/site-packages (from argon2-cffi->notebook->jupyter==1.0.0->epynn) (21.2.0)\n",
      "Requirement already satisfied: cffi>=1.0.1 in /home/synthase/.local/lib/python3.9/site-packages/cffi-1.15.0-py3.9-linux-x86_64.egg (from argon2-cffi-bindings->argon2-cffi->notebook->jupyter==1.0.0->epynn) (1.15.0)\n",
      "Requirement already satisfied: pycparser in /home/synthase/.local/lib/python3.9/site-packages/pycparser-2.21-py3.9.egg (from cffi>=1.0.1->argon2-cffi-bindings->argon2-cffi->notebook->jupyter==1.0.0->epynn) (2.21)\n",
      "Requirement already satisfied: MarkupSafe>=2.0 in /home/synthase/.local/lib/python3.9/site-packages (from jinja2->nbconvert==5.4.1->epynn) (2.0.1)\n",
      "Requirement already satisfied: qtpy>=2.0.1 in /home/synthase/.local/lib/python3.9/site-packages (from qtconsole->jupyter==1.0.0->epynn) (2.0.1)\n",
      "Requirement already satisfied: pure-eval in /home/synthase/.local/lib/python3.9/site-packages (from stack-data->ipython>=7.23.1->ipykernel->jupyter==1.0.0->epynn) (0.2.2)\n",
      "Requirement already satisfied: executing in /home/synthase/.local/lib/python3.9/site-packages (from stack-data->ipython>=7.23.1->ipykernel->jupyter==1.0.0->epynn) (0.8.2)\n",
      "Requirement already satisfied: asttokens in /home/synthase/.local/lib/python3.9/site-packages (from stack-data->ipython>=7.23.1->ipykernel->jupyter==1.0.0->epynn) (2.0.5)\n"
     ]
    }
   ],
   "source": [
    "# EpyNN/epynnlive/dummy_image/prepare_dataset.ipynb\n",
    "# Install dependencies\n",
    "!pip3 install --upgrade-strategy only-if-needed epynn\n",
    "\n",
    "# Standard library imports\n",
    "import random\n",
    "\n",
    "# Related third party imports\n",
    "import matplotlib.pyplot as plt\n",
    "import numpy as np"
   ]
  },
  {
   "cell_type": "markdown",
   "metadata": {},
   "source": [
    "### Seeding"
   ]
  },
  {
   "cell_type": "code",
   "execution_count": 2,
   "metadata": {},
   "outputs": [],
   "source": [
    "random.seed(0)\n",
    "np.random.seed(0)"
   ]
  },
  {
   "cell_type": "markdown",
   "metadata": {},
   "source": [
    "For reproducibility, as detailed [here](../dummy_boolean/prepare_dataset.ipynb#seeding)."
   ]
  },
  {
   "cell_type": "markdown",
   "metadata": {},
   "source": [
    "### Generate features"
   ]
  },
  {
   "cell_type": "markdown",
   "metadata": {},
   "source": [
    "To generate an image, we need:\n",
    "\n",
    "* Dimensions: ``HEIGHT`` and  ``WIDTH``.\n",
    "* Number of channels: ``DEPTH`` which is equal to ``1`` herein because we will prepare grayscale images. This would be *3* for *RGB* images, *4* for *CMYK* images, etc.\n",
    "* Number of tones per channel: ``N_TONES``.\n",
    "* The actual palette of shades: ``GSCALE``.\n",
    "\n",
    "The actual function to generate such image:"
   ]
  },
  {
   "cell_type": "code",
   "execution_count": 3,
   "metadata": {},
   "outputs": [],
   "source": [
    "def features_image(WIDTH=28, HEIGHT=28):\n",
    "    \"\"\"Generate dummy image features.\n",
    "\n",
    "    :param WIDTH: Image width, defaults to 28.\n",
    "    :type WIDTH: int\n",
    "\n",
    "    :param HEIGHT: Image height, defaults to 28.\n",
    "    :type HEIGHT: int\n",
    "\n",
    "    :return: Random image features of size N_FEATURES.\n",
    "    :rtype: :class:`numpy.ndarray`\n",
    "\n",
    "    :return: Non-random image features of size N_FEATURES.\n",
    "    :rtype: :class:`numpy.ndarray`\n",
    "    \"\"\"\n",
    "    # Number of channels is one for greyscale images\n",
    "    DEPTH = 1\n",
    "\n",
    "    # Number of features describing a sample\n",
    "    N_FEATURES = WIDTH * HEIGHT * DEPTH\n",
    "\n",
    "    # Number of distinct tones in features\n",
    "    N_TONES = 16\n",
    "\n",
    "    # Shades of grey\n",
    "    GSCALE = [i for i in range(N_TONES)]\n",
    "\n",
    "    # Random choice of shades for N_FEATURES iterations\n",
    "    features = [random.choice(GSCALE) for j in range(N_FEATURES)]\n",
    "\n",
    "    # Vectorization of features\n",
    "    features = np.array(features).reshape(HEIGHT, WIDTH, DEPTH)\n",
    "\n",
    "    # Masked features\n",
    "    mask_on_features = features.copy()\n",
    "    mask_on_features[np.random.randint(0, HEIGHT)] = np.zeros_like(features[0])\n",
    "    mask_on_features[:, np.random.randint(0, WIDTH)] = np.zeros_like(features[:, 0])\n",
    "\n",
    "    # Random choice between random image or masked image\n",
    "    features = random.choice([features, mask_on_features])\n",
    "\n",
    "    return features, mask_on_features"
   ]
  },
  {
   "cell_type": "markdown",
   "metadata": {},
   "source": [
    "In addition to constructing one image with randomly selected tones, this function achieves a random choice between image ``features`` and a modified version named ``mask_on_features``.\n",
    "\n",
    "The latter consists of the former, with modifications: one column and one row were randomly selected and had values for corresponding data points set to zero, visually corresponding to the following."
   ]
  },
  {
   "cell_type": "code",
   "execution_count": 4,
   "metadata": {},
   "outputs": [
    {
     "data": {
      "image/png": "[encoded data removed]",
      "text/plain": [
       "<Figure size 432x288 with 4 Axes>"
      ]
     },
     "metadata": {
      "needs_background": "light"
     },
     "output_type": "display_data"
    }
   ],
   "source": [
    "fig, ax = plt.subplots(2, 2)\n",
    "\n",
    "for i in range(2):\n",
    "\n",
    "    features, mask_on_features = features_image()\n",
    "    \n",
    "    title = 'Random' if np.sum(features) != np.sum(mask_on_features) else 'Non-random'\n",
    "\n",
    "    ax[0, i].imshow(features, cmap='gray')\n",
    "    ax[0, i].set_title(title)\n",
    "\n",
    "    ax[1, i].imshow(features - mask_on_features, cmap='gray')\n",
    "    ax[1, i].set_title('Diff. with Non-random')\n",
    "\n",
    "plt.tight_layout()\n",
    "plt.show()"
   ]
  },
  {
   "cell_type": "markdown",
   "metadata": {},
   "source": [
    "These are image ``features`` we retrieve for two samples (first row).\n",
    "\n",
    "Below is the difference between ``features`` and ``mask_on_features``.\n",
    "\n",
    "When the difference renders an all black image, it means this difference is equal to zero and so the function has returned ``mask_on_features`` from the random choice within ``[features, mask_on_features]``.\n",
    "\n",
    "Said another way, when the difference between ``features`` and ``mask_on_features`` is zero then ``features = mask_on_features`` (non-random image)."
   ]
  },
  {
   "cell_type": "markdown",
   "metadata": {},
   "source": [
    "### Generate label"
   ]
  },
  {
   "cell_type": "markdown",
   "metadata": {},
   "source": [
    "Label is associated with ``features`` depending on if the corresponding image is random or not random."
   ]
  },
  {
   "cell_type": "code",
   "execution_count": 3,
   "metadata": {},
   "outputs": [],
   "source": [
    "def label_features(features, mask_on_features):\n",
    "    \"\"\"Prepare label associated with features.\n",
    "\n",
    "    The dummy law is:\n",
    "\n",
    "    Image is NOT random = positive\n",
    "    Image is random = negative\n",
    "\n",
    "    :param features: Random image features of size N_FEATURES\n",
    "    :type features: :class:`numpy.ndarray`\n",
    "\n",
    "    :param mask_on_features: Non-random image features of size N_FEATURES\n",
    "    :type mask_on_features: :class:`numpy.ndarray`\n",
    "\n",
    "    :return: Single-digit label with respect to features\n",
    "    :rtype: int\n",
    "    \"\"\"\n",
    "    # Single-digit positive and negative labels\n",
    "    p_label = 0\n",
    "    n_label = 1\n",
    "\n",
    "    # Test if image is not random (0)\n",
    "    if np.sum(features) == np.sum(mask_on_features):\n",
    "        label = p_label\n",
    "\n",
    "    # Test if image is random (1)\n",
    "    elif np.sum(features) != np.sum(mask_on_features):\n",
    "        label = n_label\n",
    "\n",
    "    return label"
   ]
  },
  {
   "cell_type": "markdown",
   "metadata": {},
   "source": [
    "The code above is commented and self explaining.\n",
    "\n",
    "Let's check the function we made for a few iterations."
   ]
  },
  {
   "cell_type": "code",
   "execution_count": 6,
   "metadata": {},
   "outputs": [
    {
     "name": "stdout",
     "output_type": "stream",
     "text": [
      "0 5436 5436\n",
      "1 5500 5500\n",
      "0 5375 5375\n",
      "1 5412 5412\n",
      "1 5531 5531\n"
     ]
    }
   ],
   "source": [
    "for i in range(5):\n",
    "    features, mask_on_features = features_image()\n",
    "    label = label_features(features, mask_on_features)\n",
    "\n",
    "    print(label, np.sum(mask_on_features), np.sum(mask_on_features))"
   ]
  },
  {
   "cell_type": "markdown",
   "metadata": {},
   "source": [
    "### Prepare dataset"
   ]
  },
  {
   "cell_type": "markdown",
   "metadata": {},
   "source": [
    "The generic function we use to actually prepare a full labeled dataset."
   ]
  },
  {
   "cell_type": "code",
   "execution_count": 7,
   "metadata": {},
   "outputs": [],
   "source": [
    "def prepare_dataset(N_SAMPLES=100):\n",
    "    \"\"\"Prepare a set of dummy time sample features and label.\n",
    "\n",
    "    :param N_SAMPLES: Number of samples to generate, defaults to 100.\n",
    "    :type N_SAMPLES: int\n",
    "\n",
    "    :return: Set of sample features.\n",
    "    :rtype: tuple[:class:`numpy.ndarray`]\n",
    "\n",
    "    :return: Set of single-digit sample label.\n",
    "    :rtype: tuple[int]\n",
    "    \"\"\"\n",
    "    # Initialize X and Y datasets\n",
    "    X_features = []\n",
    "    Y_label = []\n",
    "\n",
    "   # Iterate over N_SAMPLES\n",
    "    for i in range(N_SAMPLES):\n",
    "\n",
    "        # Compute random string features\n",
    "        features, mask_on_features = features_image()\n",
    "\n",
    "        # Retrieve label associated with features\n",
    "        label = label_features(features, mask_on_features)\n",
    "\n",
    "        # Append sample features to X_features\n",
    "        X_features.append(features)\n",
    "\n",
    "        # Append sample label to Y_label\n",
    "        Y_label.append(label)\n",
    "\n",
    "    # Prepare X-Y pairwise dataset\n",
    "    dataset = list(zip(X_features, Y_label))\n",
    "\n",
    "    # Shuffle dataset\n",
    "    random.shuffle(dataset)\n",
    "\n",
    "    # Separate X-Y pairs\n",
    "    X_features, Y_label = zip(*dataset)\n",
    "\n",
    "    return X_features, Y_label"
   ]
  },
  {
   "cell_type": "markdown",
   "metadata": {},
   "source": [
    "We can test this function."
   ]
  },
  {
   "cell_type": "code",
   "execution_count": 8,
   "metadata": {},
   "outputs": [
    {
     "data": {
      "image/png": "[encoded data removed]",
      "text/plain": [
       "<Figure size 432x288 with 1 Axes>"
      ]
     },
     "metadata": {
      "needs_background": "light"
     },
     "output_type": "display_data"
    },
    {
     "data": {
      "image/png": "[encoded data removed]",
      "text/plain": [
       "<Figure size 432x288 with 1 Axes>"
      ]
     },
     "metadata": {
      "needs_background": "light"
     },
     "output_type": "display_data"
    },
    {
     "data": {
      "image/png": "[encoded data removed]",
      "text/plain": [
       "<Figure size 432x288 with 1 Axes>"
      ]
     },
     "metadata": {
      "needs_background": "light"
     },
     "output_type": "display_data"
    },
    {
     "data": {
      "image/png": "[encoded data removed]",
      "text/plain": [
       "<Figure size 432x288 with 1 Axes>"
      ]
     },
     "metadata": {
      "needs_background": "light"
     },
     "output_type": "display_data"
    },
    {
     "data": {
      "image/png": "[encoded data removed]",
      "text/plain": [
       "<Figure size 432x288 with 1 Axes>"
      ]
     },
     "metadata": {
      "needs_background": "light"
     },
     "output_type": "display_data"
    }
   ],
   "source": [
    "X_features, Y_label = prepare_dataset(N_SAMPLES=5)\n",
    "\n",
    "for features, label in zip(X_features, Y_label):\n",
    "    plt.imshow(features, cmap='gray')\n",
    "    plt.title('Digit = label = %s' % label)\n",
    "    plt.show()"
   ]
  },
  {
   "cell_type": "markdown",
   "metadata": {},
   "source": [
    "Note that on this run we got a deviation from the expected mean: 4 images were associated with label 0 while only one was with label 1. According to the code, we expect a balanced dataset.\n",
    "\n",
    "Just to make sure."
   ]
  },
  {
   "cell_type": "code",
   "execution_count": 9,
   "metadata": {},
   "outputs": [
    {
     "name": "stdout",
     "output_type": "stream",
     "text": [
      "54\n",
      "46\n"
     ]
    }
   ],
   "source": [
    "X_features, Y_label = prepare_dataset(N_SAMPLES=100)\n",
    "\n",
    "print(Y_label.count(0))\n",
    "print(Y_label.count(1))"
   ]
  },
  {
   "cell_type": "markdown",
   "metadata": {},
   "source": [
    "The output of the code then fits our expectations."
   ]
  },
  {
   "cell_type": "markdown",
   "metadata": {},
   "source": [
    "## Live examples"
   ]
  },
  {
   "cell_type": "markdown",
   "metadata": {},
   "source": [
    "The function ``prepare_dataset()`` presented herein is used in the following live examples:\n",
    "\n",
    "* Notebook at`EpyNN/epynnlive/dummy_image/train.ipynb` or following [this link](train.ipynb). \n",
    "* Regular python code at `EpyNN/epynnlive/dummy_image/train.py`."
   ]
  }
 ],
 "metadata": {
  "kernelspec": {
   "display_name": "Python 3 (ipykernel)",
   "language": "python",
   "name": "python3"
  },
  "language_info": {
   "codemirror_mode": {
    "name": "ipython",
    "version": 3
   },
   "file_extension": ".py",
   "mimetype": "text/x-python",
   "name": "python",
   "nbconvert_exporter": "python",
   "pygments_lexer": "ipython3",
   "version": "3.9.2"
  }
 },
 "nbformat": 4,
 "nbformat_minor": 4
}
